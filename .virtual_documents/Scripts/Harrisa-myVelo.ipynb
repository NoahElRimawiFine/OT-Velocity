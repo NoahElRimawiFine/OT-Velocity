# %matplotlib notebook
import numpy as np
import pandas as pd
import sys
import sklearn
sys.path.append('../Utils')
sys.path.append('../Data')
#import torch
from utils_Velo import *

from utils import *
import scipy
import matplotlib.pyplot as plt
import test_batch_HARISSA
from test_batch_HARISSA import batch_test
from test_batch_HARISSA import load_others_result
%load_ext autoreload
%autoreload 2


benchmarks = ['CN5']
# benchmarks = ['FN4', 'CN5', 'Trees5']
for bn in benchmarks:
    #AUROC, AUPRC = batch_test(bn,list(range(1,11)), eps_samp=1E-2, eps_feat=1E-2, save=True, corr_OT=True, lags=False)#, tuning=True)
    #AUROC, AUPRC = batch_test(bn,list(range(1,11)), eps_samp=1E-2, eps_feat=1, save=True, corr_OT=False,penalty='l1', lag=None)#, tuning=True)
    AUROC, AUPRC = batch_test(bn,list(range(1,11)), eps_samp=1E-2, eps_feat=1, save=True, corr_OT=False,penalty='l1_signed', lags=False)#, tuning=True)
    
    print( np.mean(AUROC)) 
    print(np.mean(AUPRC)) 


data = ['CN5']
plt.rcParams["font.size"] = 16

sign = None
#sign = 'signed'
metric =  'AUPRC'


cmap = plt.get_cmap('tab20')
c = {'HARISSA': (cmap(6), cmap(7)), 'CARDAMOM': (cmap(8), cmap(9)),
    'GENIE3': (cmap(0), cmap(1)), 'SINCERITIES': (cmap(2), cmap(3)),
    'PIDC': (cmap(4), cmap(5)), 'PEARSON': (cmap(14), cmap(15)),'Random': 2*('lightgray',),
    'Ours tuned': (cmap(18),cmap(19)), 'Ours tuned signed': (cmap(10), cmap(11)),
    'OTVelo-Corr': (cmap(12),cmap(13)),'OTVelo-Granger': (cmap(16),cmap(17))}
opt_box = {'patch_artist': True, 'widths': [.4]}
def configure_box(box, c):
    w = 0.8
    for item in ['boxes', 'whiskers', 'fliers', 'medians', 'caps']:
        plt.setp(box[item], color=c[0], lw=w)
    plt.setp(box['boxes'], facecolor=c[1])
    plt.setp(box['fliers'], markeredgecolor=c[0], ms=3, markerfacecolor=c[1],
        markeredgewidth=w)

plt.rcParams["font.size"] = 8
plt.rcParams["figure.figsize"] = (5,5)

methods = ['HARISSA','CARDAMOM','GENIE3','SINCERITIES','Ours_corr','Ours']#,'Ours']#,'Ours']#,'Ourspenaltyl2','Ourspenaltytune']#,'Ours_tuned','Ours_corr_tuned']
methods_name = ['HARISSA','CARDAMOM','GENIE3','SINCERITIES','OTVelo-Corr','OTVelo-Granger']#,'Ours l1 signed']#,'Ours tuned signed']   #,'Ours_l2','Ours_LOOCV']#,'Ours_tuned','Ours_corr_tuned']
    
if sign != None:
    methods = ['HARISSA','CARDAMOM','SINCERITIES','Ours_corr','Ours']#,'Ours']#,'Ours']#,'Ourspenaltyl2','Ourspenaltytune']#,'Ours_tuned','Ours_corr_tuned']
    methods_name = ['HARISSA','CARDAMOM','SINCERITIES','OTVelo-Corr','OTVelo-Granger']#,'Ours l1 signed']#,'Ours tuned signed']    

#methods = ['Ours_corr','Ours','Ours']
#methods_name = ['Ours corr','Ours l1','Ours CV']
print(methods)
methods_label = []
for i in range( len( methods)):
    methods_label += [methods_name[i]]

dx = {None: 0.0,50:0.2,70:0.4}
counter = 0
n_data = len(data)
for example in data:
    counter += 1
    counter_method = -1
    ax = plt.subplot(1,n_data, counter)
    for method in methods:
        counter_method += 1
        if method!='Ours':
            AUPRC, AUROC, EP, random = load_others_result(example,method, list(range(1,11)),sign = sign)
        #elif methods_name[counter_method][5:] == 'l1':
        #    AUPRC, AUROC, EP, random = load_others_result(example,method, list(range(1,11)),sign = sign,penalty='l1')
        else:
            print('l1')
            AUPRC, AUROC, EP, random = load_others_result(example,method, list(range(1,11)),sign = sign,penalty='l1_signed')
            # print(AUPRC)
        
        
        if metric == 'AUPRC':
            box = ax.boxplot( AUPRC, positions = [counter_method], **opt_box )
        elif metric == 'AUROC':
            box = ax.boxplot( AUROC, positions = [counter_method], **opt_box )
            random = 0.5
        elif metric == 'EP':
            box = ax.boxplot( EP, positions = [counter_method], **opt_box )
        configure_box(box, c[methods_name[counter_method]])
        # print( np.mean(AUROC)/random) 
        # print(method+', Average rescaled:'+str(np.median(AUPRC))  )
        # print(method+', Average:'+str(np.mean(AUPRC)) )
    ax.plot([-1,10], [random,random], color='lightgray', ls='--', lw=0.8, zorder=0)
    
    
    plt.xlim([-0.2, len(methods)+0.2-1  ])
    ax.set_xticklabels(methods_label,fontsize=7)
    ax.set_yticks([0,0.2,0.4,0.6,0.8,1])
    ax.set_yticklabels([0,0.2,0.4,0.6,0.8,1],fontsize=12)

    if metric == 'AUROC':
        plt.ylim([0.4,1.02])
    else:
        plt.ylim([-0.02,1.02])

    x, y = -11, 10
    xn, yn = -0.142, 0.875
    optn = {'fontsize': 15, 'transform': ax.transAxes, 'ha': 'right'}
    if sign == None or sign == 'signed':
        ax.text(xn+0.05, yn, example, **optn)
        ax.text(xn+0.05, yn+0.01, example, color='none', zorder=0, bbox=dict(
                boxstyle='round,pad=0.2',fc='none',ec='lightgray',lw=0.8), **optn)
        if counter == 1:
            if sign == None:
                ax.set_ylabel(metric,fontsize=15)
            else:
                ax.set_ylabel(metric+' (signed)',fontsize=15)
    

#plt.savefig('../Results/HARISSA/AUPRC.pdf',dpi=1000)










